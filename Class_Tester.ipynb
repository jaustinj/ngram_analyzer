{
 "cells": [
  {
   "cell_type": "code",
   "execution_count": 1,
   "metadata": {
    "collapsed": true
   },
   "outputs": [],
   "source": [
    "from collections import Counter\n",
    "import multiprocessing\n",
    "import itertools\n",
    "import os\n",
    "import re\n",
    "import scipy as sp\n",
    "import sys\n",
    "import time\n",
    "#from tkinter import *\n",
    "#from tkinter.filedialog import askopenfilename\n",
    "import warnings\n",
    "\n",
    "import numpy as np\n",
    "import pandas as pd\n",
    "import xlsxwriter\n",
    "\n",
    "import ngrams_class\n",
    "from ngrams_class import Ngram"
   ]
  },
  {
   "cell_type": "code",
   "execution_count": 2,
   "metadata": {
    "collapsed": true
   },
   "outputs": [],
   "source": [
    "pd.options.display.max_columns = 100"
   ]
  },
  {
   "cell_type": "code",
   "execution_count": 3,
   "metadata": {
    "collapsed": false
   },
   "outputs": [],
   "source": [
    "df = pd.read_csv('/Users/austinjacobs/Downloads/tubularlabs_video_export_20170320_183648_355838.csv',skiprows=1)\n",
    "df = df.iloc[:300,:]"
   ]
  },
  {
   "cell_type": "code",
   "execution_count": 4,
   "metadata": {
    "collapsed": false
   },
   "outputs": [
    {
     "name": "stdout",
     "output_type": "stream",
     "text": [
      "Step 1/2: Finding Ngrams |██████████████████████████████████████████████████| 100.0% \n",
      "Step 2/3: Aggregating by Mean |██████████████████████████████████████████████████| 100.0% \n",
      "Step 3/3: Aggregating by Median |██████████████████████████████████████████████████| 100.0% \n"
     ]
    }
   ],
   "source": [
    "ngram = Ngram(df)"
   ]
  },
  {
   "cell_type": "code",
   "execution_count": 18,
   "metadata": {
    "collapsed": false
   },
   "outputs": [],
   "source": [
    "ngram.ngram['Unique_Creator_Count'] = ngram.ngram.Creator.apply(lambda x: len(x))"
   ]
  },
  {
   "cell_type": "code",
   "execution_count": 24,
   "metadata": {
    "collapsed": false
   },
   "outputs": [],
   "source": [
    "output = ngram.ngram[['Unique_Creator_Count', 'word_count',\n",
    "       'mean_Comments', 'mean_Duration (seconds)', 'mean_ER30', 'mean_ER7',\n",
    "       'mean_Facebook_Comments', 'mean_Facebook_Likes', 'mean_Facebook_Shares',\n",
    "       'mean_Facebook_Total_Engagements', 'mean_Total_Engagements', 'mean_V30',\n",
    "       'mean_V7', 'mean_Views', 'mean_Likes', 'facebook', 'instagram',\n",
    "       'youtube']]"
   ]
  },
  {
   "cell_type": "code",
   "execution_count": null,
   "metadata": {
    "collapsed": true
   },
   "outputs": [],
   "source": [
    "path_to_desktop = os.path.expanduser('~/Desktop/')\n",
    "output.to_csv"
   ]
  }
 ],
 "metadata": {
  "kernelspec": {
   "display_name": "Python 3",
   "language": "python",
   "name": "python3"
  },
  "language_info": {
   "codemirror_mode": {
    "name": "ipython",
    "version": 3
   },
   "file_extension": ".py",
   "mimetype": "text/x-python",
   "name": "python",
   "nbconvert_exporter": "python",
   "pygments_lexer": "ipython3",
   "version": "3.6.0"
  }
 },
 "nbformat": 4,
 "nbformat_minor": 2
}
